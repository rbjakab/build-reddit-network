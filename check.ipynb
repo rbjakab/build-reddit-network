{
 "cells": [
  {
   "cell_type": "code",
   "execution_count": 3,
   "metadata": {},
   "outputs": [],
   "source": [
    "from credentials import db\n",
    "import firebase_admin\n",
    "import numpy as np\n",
    "from firebase_admin import firestore\n",
    "from datetime import datetime"
   ]
  },
  {
   "cell_type": "code",
   "execution_count": 4,
   "metadata": {},
   "outputs": [],
   "source": [
    "def userDictToList(dict):\n",
    "    return list(filter(lambda k: k not in [\"__user\", \"__lastFetched\", \"__len\"], dict.keys()))"
   ]
  },
  {
   "cell_type": "code",
   "execution_count": 5,
   "metadata": {},
   "outputs": [],
   "source": [
    "def convertUserDict(user_dict):\n",
    "    if user_dict == None:\n",
    "        return None\n",
    "    \n",
    "    return {\n",
    "        'user': user_dict['__user'],\n",
    "        'len': user_dict['__len'],\n",
    "        'lastFetched': user_dict['__lastFetched'],\n",
    "        'subreddits': userDictToList(user_dict)\n",
    "    }\n",
    "\n",
    "def getUsersFromRef(users_ref):\n",
    "    users = []\n",
    "    \n",
    "    for doc in users_ref.stream():\n",
    "        doc_dict = doc.to_dict()\n",
    "        users.append(convertUserDict(doc_dict))\n",
    "        \n",
    "    return users"
   ]
  },
  {
   "cell_type": "code",
   "execution_count": 6,
   "metadata": {},
   "outputs": [],
   "source": [
    "def getUsersInTheseSubreddits(subreddits, limit=10):\n",
    "    users_ref = db.collection('reddit').document('db').collection('users')\n",
    "    \n",
    "    for sub in subreddits:\n",
    "        users_ref = users_ref.where(sub, \"==\", True)\n",
    "        \n",
    "    return getUsersFromRef(users_ref.limit(limit))"
   ]
  },
  {
   "cell_type": "code",
   "execution_count": 7,
   "metadata": {},
   "outputs": [],
   "source": [
    "def getAverageNumberOfSubredditsPerUser(limit=10):\n",
    "    users_ref = db.collection('reddit').document('db').collection('users')\n",
    "    query = users_ref.limit(limit)\n",
    "\n",
    "    results = query.get()\n",
    "\n",
    "    subreddits_nummber_arr = []\n",
    "\n",
    "    for result in results:\n",
    "        user = userDictToList(result.to_dict())\n",
    "        subreddits_nummber_arr.append(len(user))\n",
    "        \n",
    "    return  np.mean(subreddits_nummber_arr)"
   ]
  },
  {
   "cell_type": "code",
   "execution_count": 8,
   "metadata": {},
   "outputs": [],
   "source": [
    "def getSubredditsContainingTheseSubreddits(subreddits, limit=10, exclude=True, intersection=True):\n",
    "    ref = db.collection('reddit').document('db').collection('subreddits')\n",
    "    results = []\n",
    "    visited_ids = []\n",
    "    \n",
    "    for sub in subreddits:\n",
    "        query = ref.order_by(sub, direction=firestore.Query.DESCENDING).limit(limit)\n",
    "        results_g = query.get()\n",
    "        for r in results_g:\n",
    "            id = r.id\n",
    "            neighbours =  r.to_dict()\n",
    "            extracted_subs =  list(neighbours.keys())\n",
    "            \n",
    "            if (exclude and id in subreddits) or (id in visited_ids):\n",
    "                continue\n",
    "            \n",
    "            if intersection:\n",
    "                for sub2 in subreddits:\n",
    "                    if sub2 not in extracted_subs:\n",
    "                        continue\n",
    "                \n",
    "            \n",
    "            results.append({\n",
    "                'subreddit': id,\n",
    "                'neighbours': neighbours\n",
    "            })\n",
    "            visited_ids.append(id)\n",
    "            \n",
    "    return results\n",
    "\n",
    "# sorted_list = sorted(sub_dict['neighbours'].items(), key=lambda item: item[1], reverse=True)"
   ]
  },
  {
   "cell_type": "code",
   "execution_count": 12,
   "metadata": {},
   "outputs": [],
   "source": [
    "def extractSubreddit(subreddit):\n",
    "    ref = db.collection('reddit').document('db').collection('subreddits').document(subreddit)\n",
    "    doc = ref.get()\n",
    "    doc_dict = doc.to_dict()\n",
    "    return sorted(doc_dict.items(), key=lambda item: item[1], reverse=True)"
   ]
  },
  {
   "cell_type": "code",
   "execution_count": 25,
   "metadata": {},
   "outputs": [],
   "source": [
    "def getUsersBetweenTimeRange(start_time, end_time=datetime.now(), limit=10):\n",
    "    users_ref = db.collection('reddit').document('db').collection('users')\n",
    "    query = users_ref.where('__lastFetched', '>=', start_time).where('__lastFetched', '<=', end_time).limit(limit)\n",
    "    return getUsersFromRef(query)\n",
    "\n",
    "# getUsersBetweenTimeRange(datetime(2022, 10, 10, 12, 0, 0), datetime(2022, 10, 10, 14, 0, 0))"
   ]
  },
  {
   "cell_type": "code",
   "execution_count": 26,
   "metadata": {},
   "outputs": [],
   "source": [
    "def getLastFetchedUsers(limit=10):\n",
    "    users_ref = db.collection('reddit').document('db').collection('users')\n",
    "    query = users_ref.order_by('__lastFetched', direction=firestore.Query.DESCENDING).limit(limit)\n",
    "    return getUsersFromRef(query)"
   ]
  },
  {
   "cell_type": "code",
   "execution_count": 22,
   "metadata": {},
   "outputs": [],
   "source": [
    "def getSpecificUser(user):\n",
    "    ref = db.collection('reddit').document('db').collection('users').document(user)\n",
    "    doc = ref.get()\n",
    "    doc_dict = doc.to_dict()\n",
    "    return convertUserDict(doc_dict)"
   ]
  },
  {
   "cell_type": "code",
   "execution_count": null,
   "metadata": {},
   "outputs": [],
   "source": []
  }
 ],
 "metadata": {
  "kernelspec": {
   "display_name": "Python 3.8.13 ('base')",
   "language": "python",
   "name": "python3"
  },
  "language_info": {
   "codemirror_mode": {
    "name": "ipython",
    "version": 3
   },
   "file_extension": ".py",
   "mimetype": "text/x-python",
   "name": "python",
   "nbconvert_exporter": "python",
   "pygments_lexer": "ipython3",
   "version": "3.8.13"
  },
  "orig_nbformat": 4,
  "vscode": {
   "interpreter": {
    "hash": "1df101763e55737d5ef804aacc547e5ca04d2bbf397d1b94a85fd76fabc42a4d"
   }
  }
 },
 "nbformat": 4,
 "nbformat_minor": 2
}
