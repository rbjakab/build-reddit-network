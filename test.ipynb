{
 "cells": [
  {
   "cell_type": "code",
   "execution_count": null,
   "metadata": {},
   "outputs": [],
   "source": [
    "from credentials import db\n",
    "from aux import getCurrentTime\n",
    "from credentials import reddit"
   ]
  },
  {
   "cell_type": "code",
   "execution_count": null,
   "metadata": {},
   "outputs": [],
   "source": [
    "def getCommentLinkById(commentId):\n",
    "    return \"reddit.com\" + reddit.comment(commentId).permalink"
   ]
  },
  {
   "cell_type": "code",
   "execution_count": null,
   "metadata": {},
   "outputs": [],
   "source": [
    "user_name = 'test1'\n",
    "user_subreddits = ['a', 'b', 'q']\n",
    "\n",
    "doc_ref = db.collection(\"reddit\").document(\"db\").collection(\"users\").document(user_name)\n",
    "\n",
    "objectToWrite = {\n",
    "        \"__user\": user_name,\n",
    "        \"__lastFetched\": getCurrentTime(),\n",
    "        \"__len\": len(user_subreddits),\n",
    "    }\n",
    "\n",
    "for sub in list(user_subreddits):\n",
    "    objectToWrite[sub] = True\n",
    "    \n",
    "db.collection(\"reddit\").document(\"db\").collection(\"users\").document(user_name).set(\n",
    "    objectToWrite, merge=True\n",
    ")"
   ]
  },
  {
   "cell_type": "code",
   "execution_count": null,
   "metadata": {},
   "outputs": [],
   "source": [
    "from praw.models import MoreComments\n",
    "\n",
    "submission = reddit.submission('xzzsyr')\n",
    "\n",
    "submission.comments.replace_more(limit=10)\n",
    "\n",
    "authors = set()\n",
    "\n",
    "for comment in submission.comments.list():\n",
    "    try:\n",
    "        authors.add(comment.author.name)\n",
    "    except:\n",
    "        continue\n",
    "    \n",
    "len(authors)"
   ]
  },
  {
   "cell_type": "code",
   "execution_count": null,
   "metadata": {},
   "outputs": [],
   "source": [
    "for thread in reddit.subreddit('hungary').hot(limit=None):\n",
    "    try:\n",
    "        print(thread.title)\n",
    "    except:\n",
    "        continue"
   ]
  }
 ],
 "metadata": {
  "kernelspec": {
   "display_name": "Python 3.8.13 ('base')",
   "language": "python",
   "name": "python3"
  },
  "language_info": {
   "codemirror_mode": {
    "name": "ipython",
    "version": 3
   },
   "file_extension": ".py",
   "mimetype": "text/x-python",
   "name": "python",
   "nbconvert_exporter": "python",
   "pygments_lexer": "ipython3",
   "version": "3.8.13"
  },
  "orig_nbformat": 4,
  "vscode": {
   "interpreter": {
    "hash": "1df101763e55737d5ef804aacc547e5ca04d2bbf397d1b94a85fd76fabc42a4d"
   }
  }
 },
 "nbformat": 4,
 "nbformat_minor": 2
}
